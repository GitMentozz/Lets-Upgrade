{
 "cells": [
  {
   "cell_type": "code",
   "execution_count": 5,
   "id": "edee55af",
   "metadata": {},
   "outputs": [
    {
     "name": "stdout",
     "output_type": "stream",
     "text": [
      "['Fizzbuzz', 1, 2, 'Fizz', 4, 'Buzz', 'Fizz', 7, 8, 'Fizz', 'Buzz', 11, 'Fizz', 13, 14, 'Fizzbuzz', 16, 17, 'Fizz', 19, 'Buzz', 'Fizz', 22, 23, 'Fizz', 'Buzz', 26, 'Fizz', 28, 29, 'Fizzbuzz', 31, 32, 'Fizz', 34, 'Buzz', 'Fizz', 37, 38, 'Fizz', 'Buzz', 41, 'Fizz', 43, 44, 'Fizzbuzz', 46, 47, 'Fizz', 49]\n"
     ]
    }
   ],
   "source": [
    "#Question 1\n",
    "def getList(num):\n",
    "    myList = []\n",
    "    for i in range(num):\n",
    "        if i % 3 == 0 and i % 5 == 0:\n",
    "            myList.append(\"Fizzbuzz\")\n",
    "        elif i % 3 == 0:\n",
    "            myList.append(\"Fizz\")\n",
    "        elif i % 5 == 0:\n",
    "            myList.append(\"Buzz\")\n",
    "        else:\n",
    "            myList.append(i)\n",
    "    print(myList)\n",
    "            \n",
    "getList(50)"
   ]
  },
  {
   "cell_type": "code",
   "execution_count": 8,
   "id": "bebdeb51",
   "metadata": {},
   "outputs": [
    {
     "data": {
      "text/plain": [
       "'_____Hello'"
      ]
     },
     "execution_count": 8,
     "metadata": {},
     "output_type": "execute_result"
    }
   ],
   "source": [
    "#Question 2\n",
    "def getUnderScorestring(str1):\n",
    "            #return (\"_\" + str1) * len(str1)\n",
    "            return (\"_\" * len(str1)) + str1\n",
    "    \n",
    "getUnderScorestring(\"Hello\")\n",
    "    "
   ]
  },
  {
   "cell_type": "code",
   "execution_count": null,
   "id": "577aa677",
   "metadata": {},
   "outputs": [],
   "source": [
    "#Question 3\n",
    "def anagram(s1,s2):\n",
    "    if(sorted(s1)==sorted(s2)):\n",
    "          print(\"The strings are anagrams.\")\n",
    "    else:\n",
    "          print(\"The strings aren't anagrams.\")\n",
    "anagram(\"anagram\",\"nagaram\")\n",
    "anagram(\"Hello\",\"elloh\")"
   ]
  },
  {
   "cell_type": "code",
   "execution_count": 14,
   "id": "1512125a",
   "metadata": {},
   "outputs": [
    {
     "name": "stdout",
     "output_type": "stream",
     "text": [
      "[1, 2]\n"
     ]
    }
   ],
   "source": [
    "#Question 4\n",
    "def removeFirstAndLastinList(myList):\n",
    "    if len(myList) > 0:\n",
    "        myList.pop(0)\n",
    "        myList.pop(len(myList) - 1)\n",
    "        print(myList)\n",
    "    else:\n",
    "        return \"Empty List.\"\n",
    "    \n",
    "myList = [\"Apple\", 1,2,\"Banana\"]\n",
    "#myList = []\n",
    "removeFirstAndLastinList(myList)"
   ]
  },
  {
   "cell_type": "code",
   "execution_count": 22,
   "id": "e02eff28",
   "metadata": {},
   "outputs": [
    {
     "data": {
      "text/plain": [
       "[0, 1, 2, 3, 4, 5]"
      ]
     },
     "execution_count": 22,
     "metadata": {},
     "output_type": "execute_result"
    }
   ],
   "source": [
    "#Question 5\n",
    "def listOfAllIndexes(lst):\n",
    "    myList=[]\n",
    "    for i in lst:\n",
    "        myList.append(lst.index(i))\n",
    "    return myList\n",
    "lst = [\"A\",\"B\",\"C\",0,1,2]\n",
    "listOfAllIndexes(lst)"
   ]
  },
  {
   "cell_type": "code",
   "execution_count": 30,
   "id": "b09de2e8",
   "metadata": {},
   "outputs": [
    {
     "name": "stdout",
     "output_type": "stream",
     "text": [
      "{3: 'Orange', 2: 'Banana', 1: 'Apple'}\n"
     ]
    }
   ],
   "source": [
    "#Question 6\n",
    "def reverseDict(myDict):\n",
    "    res = reversed(list(myDict.items()))\n",
    "    print(dict(res))\n",
    "\n",
    "myDict = {1:\"Apple\",2:\"Banana\",3:\"Orange\"}\n",
    "reverseDict(myDict)\n",
    "\n",
    "    "
   ]
  },
  {
   "cell_type": "code",
   "execution_count": 33,
   "id": "58654e8e",
   "metadata": {},
   "outputs": [
    {
     "name": "stdout",
     "output_type": "stream",
     "text": [
      "Fibonacci Series : \n",
      "0\n",
      "1\n",
      "1\n",
      "2\n",
      "3\n",
      "5\n",
      "8\n",
      "13\n",
      "21\n",
      "34\n",
      "55\n",
      "89\n"
     ]
    }
   ],
   "source": [
    "#Question 7\n",
    "def fibonnaci(n):\n",
    "    a = 0\n",
    "    b = 1\n",
    "    sum = 0\n",
    "    print(\"Fibonacci Series : \")\n",
    "    while(sum <= n):\n",
    "        print(sum)\n",
    "        a = b\n",
    "        b = sum\n",
    "        sum = a + b\n",
    "            \n",
    "fibonnaci(100)"
   ]
  },
  {
   "cell_type": "code",
   "execution_count": null,
   "id": "83069737",
   "metadata": {},
   "outputs": [],
   "source": [
    "#Question 8 \n",
    "def replaceDoubleVowel(strW):\n",
    "    strWords = strW.split(' ')\n",
    "    print(strWords)\n",
    "    returnWords = []\n",
    "    dblVowelList = ['aa','ee','ii','oo','uu']\n",
    "    for words in strWords:\n",
    "        if dblVowelList.count(words.lower()) > 0:\n",
    "            returnWords.append(words[0])\n",
    "        else:\n",
    "            returnWords.append(words)\n",
    "    returnValue = ''\n",
    "    for part in returnWords:\n",
    "        if len(returnValue) == 0:\n",
    "            returnValue += part\n",
    "        else:\n",
    "            returnValue += ' ' + part\n",
    "            \n",
    "    return returnValue\n",
    "\n",
    "txt = \"I like aa baananas aaa aaa aaa\"\n",
    "\n",
    "print(replaceDoubleVowel(txt))"
   ]
  },
  {
   "cell_type": "code",
   "execution_count": 35,
   "id": "9fd71f12",
   "metadata": {},
   "outputs": [
    {
     "name": "stdout",
     "output_type": "stream",
     "text": [
      "['1', 'Apple', '2', 'Banana']\n"
     ]
    }
   ],
   "source": [
    "#Question 9\n",
    "def unionList(list1,list2):\n",
    "    print(list1 + list2)\n",
    "    \n",
    "myList = [\"1\",\"Apple\"]\n",
    "lst = [\"2\",\"Banana\"]\n",
    "unionList(myList,lst)"
   ]
  },
  {
   "cell_type": "code",
   "execution_count": 39,
   "id": "3d88a10d",
   "metadata": {},
   "outputs": [
    {
     "name": "stdout",
     "output_type": "stream",
     "text": [
      "4\n"
     ]
    }
   ],
   "source": [
    "#Question 10\n",
    "def countDigit(digit):\n",
    "    cnt = 0\n",
    "    digit = str(digit)\n",
    "    for i in digit:\n",
    "        cnt = cnt + 1\n",
    "    print(cnt)\n",
    "    \n",
    "countDigit(1256)"
   ]
  }
 ],
 "metadata": {
  "kernelspec": {
   "display_name": "Python 3 (ipykernel)",
   "language": "python",
   "name": "python3"
  },
  "language_info": {
   "codemirror_mode": {
    "name": "ipython",
    "version": 3
   },
   "file_extension": ".py",
   "mimetype": "text/x-python",
   "name": "python",
   "nbconvert_exporter": "python",
   "pygments_lexer": "ipython3",
   "version": "3.9.6"
  }
 },
 "nbformat": 4,
 "nbformat_minor": 5
}
