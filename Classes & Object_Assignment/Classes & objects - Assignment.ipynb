{
 "cells": [
  {
   "cell_type": "code",
   "execution_count": null,
   "id": "27afa811",
   "metadata": {},
   "outputs": [],
   "source": [
    "class BankAccount:\n",
    "    def __init__(self,owner,balance = 0):\n",
    "        self.owner = owner\n",
    "        self.balance = balance\n",
    "        \n",
    "    def deposit(self,depositAmt):\n",
    "        msg = \"\"\n",
    "        self.balance = self.balance + depositAmt\n",
    "        msg = \"Deposit Successful:{}, Available Balance: {}\".format(depositAmt,self.balance)\n",
    "        return msg\n",
    "        \n",
    "    def withdrawals(self,withdrawAmt):\n",
    "        msg = \"\"\n",
    "        if withdrawAmt > self.balance:\n",
    "            msg = \"Withdrawal Amount exceeding available balance : {}\".format(self.balance)\n",
    "        if len(msg) > 0:\n",
    "            return msg\n",
    "        else:\n",
    "            self.balance = self.balance - withdrawAmt\n",
    "            msg = \"Withdrawal Successful: {}, Available Balance: {}\".format(withdrawAmt,self.balance)\n",
    "            return msg\n",
    "            \n",
    "            \n",
    "            \n",
    "ba = BankAccount(\"Atul\")\n",
    "print(\"-------------------------------------------\")\n",
    "print(\"Bank Account Details\")\n",
    "print(\"-------------------------------------------\")\n",
    "print(\"Owner Name: {}\".format(ba.owner))\n",
    "print(\"Available Balance: {}\".format(ba.balance))\n",
    "print(ba.deposit(5000))\n",
    "print(ba.deposit(5000))\n",
    "print(ba.withdrawals(3000))\n",
    "print(ba.withdrawals(8000))\n"
   ]
  }
 ],
 "metadata": {
  "kernelspec": {
   "display_name": "Python 3 (ipykernel)",
   "language": "python",
   "name": "python3"
  },
  "language_info": {
   "codemirror_mode": {
    "name": "ipython",
    "version": 3
   },
   "file_extension": ".py",
   "mimetype": "text/x-python",
   "name": "python",
   "nbconvert_exporter": "python",
   "pygments_lexer": "ipython3",
   "version": "3.9.6"
  }
 },
 "nbformat": 4,
 "nbformat_minor": 5
}
